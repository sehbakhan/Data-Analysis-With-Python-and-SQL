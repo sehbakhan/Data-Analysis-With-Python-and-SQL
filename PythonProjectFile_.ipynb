{
 "cells": [
  {
   "cell_type": "code",
   "execution_count": 49,
   "metadata": {},
   "outputs": [],
   "source": [
    "import numpy as np\n",
    "import pandas as pd\n",
    "import matplotlib.pyplot as plt\n",
    "import seaborn as sns\n",
    "from datetime import datetime"
   ]
  },
  {
   "cell_type": "code",
   "execution_count": 50,
   "metadata": {},
   "outputs": [],
   "source": [
    "df = pd.read_csv(\"customer_purchase_data.csv\")"
   ]
  },
  {
   "cell_type": "code",
   "execution_count": 51,
   "metadata": {},
   "outputs": [
    {
     "data": {
      "application/vnd.microsoft.datawrangler.viewer.v0+json": {
       "columns": [
        {
         "name": "index",
         "rawType": "int64",
         "type": "integer"
        },
        {
         "name": "TransactionID",
         "rawType": "int64",
         "type": "integer"
        },
        {
         "name": "CustomerID",
         "rawType": "int64",
         "type": "integer"
        },
        {
         "name": "CustomerName",
         "rawType": "object",
         "type": "string"
        },
        {
         "name": "ProductID",
         "rawType": "int64",
         "type": "integer"
        },
        {
         "name": "ProductName",
         "rawType": "object",
         "type": "string"
        },
        {
         "name": "ProductCategory",
         "rawType": "object",
         "type": "string"
        },
        {
         "name": "PurchaseQuantity",
         "rawType": "int64",
         "type": "integer"
        },
        {
         "name": "PurchasePrice",
         "rawType": "float64",
         "type": "float"
        },
        {
         "name": "PurchaseDate",
         "rawType": "object",
         "type": "string"
        },
        {
         "name": "Country",
         "rawType": "object",
         "type": "string"
        }
       ],
       "conversionMethod": "pd.DataFrame",
       "ref": "f56fda0f-46ff-4e6e-acd9-a43a944efa6f",
       "rows": [
        [
         "0",
         "1",
         "887",
         "Kenneth Martinez",
         "240",
         "Router",
         "Electronics",
         "5",
         "689.99",
         "2024-03-01",
         "Barbados"
        ],
        [
         "1",
         "2",
         "560",
         "Joseph Anderson",
         "299",
         "Camera",
         "Electronics",
         "4",
         "79.27",
         "2024-01-26",
         "Northern Mariana Islands"
        ],
        [
         "2",
         "3",
         "701",
         "Vincent Reynolds",
         "207",
         "Electric Kettle",
         "Home Appliances",
         "3",
         "666.75",
         "2024-05-13",
         "British Virgin Islands"
        ],
        [
         "3",
         "4",
         "630",
         "Christopher Morris",
         "290",
         "Smartwatch",
         "Electronics",
         "5",
         "316.19",
         "2023-09-21",
         "Guatemala"
        ],
        [
         "4",
         "5",
         "631",
         "Sarah King",
         "281",
         "Toaster",
         "Home Appliances",
         "4",
         "700.24",
         "2024-01-25",
         "Falkland Islands (Malvinas)"
        ],
        [
         "5",
         "6",
         "228",
         "Lisa Davis",
         "282",
         "Television",
         "Electronics",
         "4",
         "668.28",
         "2023-08-30",
         "Namibia"
        ],
        [
         "6",
         "7",
         "694",
         "Matthew Le",
         "277",
         "Microwave",
         "Home Appliances",
         "5",
         "573.41",
         "2023-11-04",
         "Tajikistan"
        ],
        [
         "7",
         "8",
         "677",
         "Scott Miller",
         "282",
         "Heater",
         "Home Appliances",
         "1",
         "310.84",
         "2024-04-20",
         "Montserrat"
        ],
        [
         "8",
         "9",
         "371",
         "Pamela Butler",
         "281",
         "Printer",
         "Electronics",
         "5",
         "610.59",
         "2023-07-07",
         "Luxembourg"
        ],
        [
         "9",
         "10",
         "742",
         "Maria Turner",
         "231",
         "Air Conditioner",
         "Home Appliances",
         "4",
         "447.74",
         "2024-05-03",
         "Sri Lanka"
        ],
        [
         "10",
         "11",
         "801",
         "Jesse Barker",
         "220",
         "Router",
         "Electronics",
         "4",
         "795.8",
         "2023-12-13",
         "Israel"
        ],
        [
         "11",
         "12",
         "595",
         "Gerald Thomas",
         "291",
         "Laptop",
         "Electronics",
         "3",
         "520.3",
         "2023-10-28",
         "Saint Martin"
        ],
        [
         "12",
         "13",
         "981",
         "James Hodges",
         "265",
         "Refrigerator",
         "Home Appliances",
         "2",
         "676.07",
         "2024-01-30",
         "Botswana"
        ],
        [
         "13",
         "14",
         "426",
         "Bryan Cole",
         "218",
         "Television",
         "Electronics",
         "2",
         "34.18",
         "2023-08-02",
         "Australia"
        ],
        [
         "14",
         "15",
         "397",
         "Sharon Barnes",
         "220",
         "Tablet",
         "Electronics",
         "5",
         "851.24",
         "2024-05-06",
         "Greece"
        ],
        [
         "15",
         "16",
         "691",
         "Cheryl Moore",
         "265",
         "Tablet",
         "Electronics",
         "4",
         "887.28",
         "2023-12-24",
         "Luxembourg"
        ],
        [
         "16",
         "17",
         "415",
         "Brandon Long MD",
         "230",
         "Printer",
         "Electronics",
         "4",
         "405.66",
         "2023-09-17",
         "Mozambique"
        ],
        [
         "17",
         "18",
         "461",
         "Douglas Harper",
         "283",
         "Smartphone",
         "Electronics",
         "1",
         "780.64",
         "2024-03-13",
         "Latvia"
        ],
        [
         "18",
         "19",
         "392",
         "Sarah Jordan",
         "233",
         "Headphones",
         "Electronics",
         "5",
         "469.9",
         "2024-04-03",
         "Haiti"
        ],
        [
         "19",
         "20",
         "882",
         "Andrew Williams",
         "271",
         "Laptop",
         "Electronics",
         "4",
         "142.01",
         "2023-09-09",
         "Guyana"
        ],
        [
         "20",
         "21",
         "666",
         "James Cole",
         "270",
         "Heater",
         "Home Appliances",
         "5",
         "599.5",
         "2023-10-12",
         "Sweden"
        ],
        [
         "21",
         "22",
         "738",
         "Barbara Hester",
         "250",
         "Electric Kettle",
         "Home Appliances",
         "5",
         "432.47",
         "2023-11-17",
         "South Africa"
        ],
        [
         "22",
         "23",
         "447",
         "Holly Thomas",
         "277",
         "Microwave",
         "Home Appliances",
         "4",
         "455.57",
         "2024-01-09",
         "Iran"
        ],
        [
         "23",
         "24",
         "612",
         "Andrew Reeves",
         "260",
         "Smartwatch",
         "Electronics",
         "5",
         "489.75",
         "2024-01-13",
         "Korea"
        ],
        [
         "24",
         "25",
         "252",
         "Kaylee Murphy",
         "278",
         "Smartwatch",
         "Electronics",
         "4",
         "86.71",
         "2023-10-27",
         "Central African Republic"
        ],
        [
         "25",
         "26",
         "502",
         "Nancy Evans MD",
         "265",
         "Vacuum Cleaner",
         "Home Appliances",
         "3",
         "342.49",
         "2024-01-18",
         "Liechtenstein"
        ],
        [
         "26",
         "27",
         "825",
         "Karen Smith",
         "242",
         "Headphones",
         "Electronics",
         "2",
         "238.95",
         "2024-03-13",
         "Bouvet Island (Bouvetoya)"
        ],
        [
         "27",
         "28",
         "526",
         "Rebecca Swanson",
         "288",
         "Television",
         "Electronics",
         "1",
         "420.72",
         "2024-02-25",
         "Anguilla"
        ],
        [
         "28",
         "29",
         "711",
         "Walter Patton",
         "299",
         "Heater",
         "Home Appliances",
         "4",
         "421.62",
         "2024-02-05",
         "Montserrat"
        ],
        [
         "29",
         "30",
         "333",
         "Lauren Jackson",
         "280",
         "Printer",
         "Electronics",
         "4",
         "905.79",
         "2024-04-01",
         "Nicaragua"
        ],
        [
         "30",
         "31",
         "893",
         "Brittany Becker",
         "204",
         "Smart Bulb",
         "Electronics",
         "4",
         "482.21",
         "2024-02-03",
         "Yemen"
        ],
        [
         "31",
         "32",
         "817",
         "Albert Edwards",
         "219",
         "Washing Machine",
         "Home Appliances",
         "4",
         "854.91",
         "2023-12-03",
         "Portugal"
        ],
        [
         "32",
         "33",
         "308",
         "Reginald Knapp",
         "294",
         "Heater",
         "Home Appliances",
         "5",
         "801.87",
         "2024-04-03",
         "Bahamas"
        ],
        [
         "33",
         "34",
         "822",
         "Daniel Nguyen",
         "284",
         "Tablet",
         "Electronics",
         "2",
         "280.21",
         "2023-12-28",
         "Mali"
        ],
        [
         "34",
         "35",
         "485",
         "Christopher Barr",
         "243",
         "Blender",
         "Home Appliances",
         "4",
         "342.77",
         "2024-01-24",
         "Guinea"
        ],
        [
         "35",
         "36",
         "792",
         "Michelle Schneider",
         "288",
         "Microwave",
         "Home Appliances",
         "4",
         "920.35",
         "2023-10-06",
         "New Caledonia"
        ],
        [
         "36",
         "37",
         "595",
         "David Grant",
         "228",
         "Printer",
         "Electronics",
         "5",
         "568.75",
         "2024-06-25",
         "French Southern Territories"
        ],
        [
         "37",
         "38",
         "889",
         "Daniel Bush",
         "240",
         "Laptop",
         "Electronics",
         "4",
         "144.34",
         "2023-12-29",
         "Guernsey"
        ],
        [
         "38",
         "39",
         "673",
         "Rebecca Hill",
         "215",
         "Microwave",
         "Home Appliances",
         "1",
         "267.55",
         "2024-02-03",
         "Philippines"
        ],
        [
         "39",
         "40",
         "656",
         "William Cardenas",
         "298",
         "Vacuum Cleaner",
         "Home Appliances",
         "4",
         "333.58",
         "2024-05-03",
         "Cameroon"
        ],
        [
         "40",
         "41",
         "397",
         "Tyler Miller",
         "256",
         "Washing Machine",
         "Home Appliances",
         "4",
         "259.75",
         "2024-03-06",
         "Equatorial Guinea"
        ],
        [
         "41",
         "42",
         "865",
         "Dale Ryan",
         "271",
         "Tablet",
         "Electronics",
         "1",
         "751.53",
         "2024-03-22",
         "Faroe Islands"
        ],
        [
         "42",
         "43",
         "240",
         "Patrick Allen",
         "206",
         "Camera",
         "Electronics",
         "2",
         "653.64",
         "2024-03-12",
         "United Kingdom"
        ],
        [
         "43",
         "44",
         "643",
         "David Garcia",
         "242",
         "Smartphone",
         "Electronics",
         "2",
         "207.37",
         "2024-03-30",
         "Latvia"
        ],
        [
         "44",
         "45",
         "202",
         "Brenda Oconnell",
         "220",
         "Smart Bulb",
         "Electronics",
         "2",
         "246.16",
         "2023-12-01",
         "Palau"
        ],
        [
         "45",
         "46",
         "999",
         "Matthew Avila",
         "236",
         "Refrigerator",
         "Home Appliances",
         "5",
         "948.28",
         "2023-10-28",
         "France"
        ],
        [
         "46",
         "47",
         "761",
         "Randy Pearson",
         "229",
         "Washing Machine",
         "Home Appliances",
         "3",
         "176.11",
         "2024-01-19",
         "Saint Vincent and the Grenadines"
        ],
        [
         "47",
         "48",
         "840",
         "Amanda Dorsey",
         "253",
         "Headphones",
         "Electronics",
         "3",
         "117.02",
         "2024-06-02",
         "Taiwan"
        ],
        [
         "48",
         "49",
         "280",
         "Amanda Huff",
         "263",
         "Smartwatch",
         "Electronics",
         "5",
         "680.57",
         "2023-09-06",
         "Vietnam"
        ],
        [
         "49",
         "50",
         "866",
         "Tammy Mcdowell",
         "201",
         "Coffee Maker",
         "Home Appliances",
         "2",
         "85.24",
         "2023-10-19",
         "Mongolia"
        ]
       ],
       "shape": {
        "columns": 10,
        "rows": 1000
       }
      },
      "text/html": [
       "<div>\n",
       "<style scoped>\n",
       "    .dataframe tbody tr th:only-of-type {\n",
       "        vertical-align: middle;\n",
       "    }\n",
       "\n",
       "    .dataframe tbody tr th {\n",
       "        vertical-align: top;\n",
       "    }\n",
       "\n",
       "    .dataframe thead th {\n",
       "        text-align: right;\n",
       "    }\n",
       "</style>\n",
       "<table border=\"1\" class=\"dataframe\">\n",
       "  <thead>\n",
       "    <tr style=\"text-align: right;\">\n",
       "      <th></th>\n",
       "      <th>TransactionID</th>\n",
       "      <th>CustomerID</th>\n",
       "      <th>CustomerName</th>\n",
       "      <th>ProductID</th>\n",
       "      <th>ProductName</th>\n",
       "      <th>ProductCategory</th>\n",
       "      <th>PurchaseQuantity</th>\n",
       "      <th>PurchasePrice</th>\n",
       "      <th>PurchaseDate</th>\n",
       "      <th>Country</th>\n",
       "    </tr>\n",
       "  </thead>\n",
       "  <tbody>\n",
       "    <tr>\n",
       "      <th>0</th>\n",
       "      <td>1</td>\n",
       "      <td>887</td>\n",
       "      <td>Kenneth Martinez</td>\n",
       "      <td>240</td>\n",
       "      <td>Router</td>\n",
       "      <td>Electronics</td>\n",
       "      <td>5</td>\n",
       "      <td>689.99</td>\n",
       "      <td>2024-03-01</td>\n",
       "      <td>Barbados</td>\n",
       "    </tr>\n",
       "    <tr>\n",
       "      <th>1</th>\n",
       "      <td>2</td>\n",
       "      <td>560</td>\n",
       "      <td>Joseph Anderson</td>\n",
       "      <td>299</td>\n",
       "      <td>Camera</td>\n",
       "      <td>Electronics</td>\n",
       "      <td>4</td>\n",
       "      <td>79.27</td>\n",
       "      <td>2024-01-26</td>\n",
       "      <td>Northern Mariana Islands</td>\n",
       "    </tr>\n",
       "    <tr>\n",
       "      <th>2</th>\n",
       "      <td>3</td>\n",
       "      <td>701</td>\n",
       "      <td>Vincent Reynolds</td>\n",
       "      <td>207</td>\n",
       "      <td>Electric Kettle</td>\n",
       "      <td>Home Appliances</td>\n",
       "      <td>3</td>\n",
       "      <td>666.75</td>\n",
       "      <td>2024-05-13</td>\n",
       "      <td>British Virgin Islands</td>\n",
       "    </tr>\n",
       "    <tr>\n",
       "      <th>3</th>\n",
       "      <td>4</td>\n",
       "      <td>630</td>\n",
       "      <td>Christopher Morris</td>\n",
       "      <td>290</td>\n",
       "      <td>Smartwatch</td>\n",
       "      <td>Electronics</td>\n",
       "      <td>5</td>\n",
       "      <td>316.19</td>\n",
       "      <td>2023-09-21</td>\n",
       "      <td>Guatemala</td>\n",
       "    </tr>\n",
       "    <tr>\n",
       "      <th>4</th>\n",
       "      <td>5</td>\n",
       "      <td>631</td>\n",
       "      <td>Sarah King</td>\n",
       "      <td>281</td>\n",
       "      <td>Toaster</td>\n",
       "      <td>Home Appliances</td>\n",
       "      <td>4</td>\n",
       "      <td>700.24</td>\n",
       "      <td>2024-01-25</td>\n",
       "      <td>Falkland Islands (Malvinas)</td>\n",
       "    </tr>\n",
       "    <tr>\n",
       "      <th>...</th>\n",
       "      <td>...</td>\n",
       "      <td>...</td>\n",
       "      <td>...</td>\n",
       "      <td>...</td>\n",
       "      <td>...</td>\n",
       "      <td>...</td>\n",
       "      <td>...</td>\n",
       "      <td>...</td>\n",
       "      <td>...</td>\n",
       "      <td>...</td>\n",
       "    </tr>\n",
       "    <tr>\n",
       "      <th>995</th>\n",
       "      <td>996</td>\n",
       "      <td>277</td>\n",
       "      <td>Larry Garcia</td>\n",
       "      <td>253</td>\n",
       "      <td>Electric Kettle</td>\n",
       "      <td>Home Appliances</td>\n",
       "      <td>2</td>\n",
       "      <td>796.67</td>\n",
       "      <td>2024-01-03</td>\n",
       "      <td>Gabon</td>\n",
       "    </tr>\n",
       "    <tr>\n",
       "      <th>996</th>\n",
       "      <td>997</td>\n",
       "      <td>340</td>\n",
       "      <td>Anthony Smith</td>\n",
       "      <td>233</td>\n",
       "      <td>Smart Bulb</td>\n",
       "      <td>Electronics</td>\n",
       "      <td>5</td>\n",
       "      <td>271.88</td>\n",
       "      <td>2023-11-11</td>\n",
       "      <td>Philippines</td>\n",
       "    </tr>\n",
       "    <tr>\n",
       "      <th>997</th>\n",
       "      <td>998</td>\n",
       "      <td>262</td>\n",
       "      <td>Scott Gordon</td>\n",
       "      <td>208</td>\n",
       "      <td>Air Conditioner</td>\n",
       "      <td>Home Appliances</td>\n",
       "      <td>5</td>\n",
       "      <td>594.69</td>\n",
       "      <td>2023-11-04</td>\n",
       "      <td>Jersey</td>\n",
       "    </tr>\n",
       "    <tr>\n",
       "      <th>998</th>\n",
       "      <td>999</td>\n",
       "      <td>216</td>\n",
       "      <td>Barbara Walker</td>\n",
       "      <td>233</td>\n",
       "      <td>Printer</td>\n",
       "      <td>Electronics</td>\n",
       "      <td>4</td>\n",
       "      <td>140.89</td>\n",
       "      <td>2023-11-05</td>\n",
       "      <td>Slovenia</td>\n",
       "    </tr>\n",
       "    <tr>\n",
       "      <th>999</th>\n",
       "      <td>1000</td>\n",
       "      <td>463</td>\n",
       "      <td>Patricia Hawkins</td>\n",
       "      <td>219</td>\n",
       "      <td>Television</td>\n",
       "      <td>Electronics</td>\n",
       "      <td>5</td>\n",
       "      <td>861.00</td>\n",
       "      <td>2024-05-22</td>\n",
       "      <td>Portugal</td>\n",
       "    </tr>\n",
       "  </tbody>\n",
       "</table>\n",
       "<p>1000 rows × 10 columns</p>\n",
       "</div>"
      ],
      "text/plain": [
       "     TransactionID  CustomerID        CustomerName  ProductID  \\\n",
       "0                1         887    Kenneth Martinez        240   \n",
       "1                2         560     Joseph Anderson        299   \n",
       "2                3         701    Vincent Reynolds        207   \n",
       "3                4         630  Christopher Morris        290   \n",
       "4                5         631          Sarah King        281   \n",
       "..             ...         ...                 ...        ...   \n",
       "995            996         277        Larry Garcia        253   \n",
       "996            997         340       Anthony Smith        233   \n",
       "997            998         262        Scott Gordon        208   \n",
       "998            999         216      Barbara Walker        233   \n",
       "999           1000         463    Patricia Hawkins        219   \n",
       "\n",
       "         ProductName  ProductCategory  PurchaseQuantity  PurchasePrice  \\\n",
       "0             Router      Electronics                 5         689.99   \n",
       "1             Camera      Electronics                 4          79.27   \n",
       "2    Electric Kettle  Home Appliances                 3         666.75   \n",
       "3         Smartwatch      Electronics                 5         316.19   \n",
       "4            Toaster  Home Appliances                 4         700.24   \n",
       "..               ...              ...               ...            ...   \n",
       "995  Electric Kettle  Home Appliances                 2         796.67   \n",
       "996       Smart Bulb      Electronics                 5         271.88   \n",
       "997  Air Conditioner  Home Appliances                 5         594.69   \n",
       "998          Printer      Electronics                 4         140.89   \n",
       "999       Television      Electronics                 5         861.00   \n",
       "\n",
       "    PurchaseDate                      Country  \n",
       "0     2024-03-01                     Barbados  \n",
       "1     2024-01-26     Northern Mariana Islands  \n",
       "2     2024-05-13       British Virgin Islands  \n",
       "3     2023-09-21                    Guatemala  \n",
       "4     2024-01-25  Falkland Islands (Malvinas)  \n",
       "..           ...                          ...  \n",
       "995   2024-01-03                        Gabon  \n",
       "996   2023-11-11                  Philippines  \n",
       "997   2023-11-04                       Jersey  \n",
       "998   2023-11-05                     Slovenia  \n",
       "999   2024-05-22                     Portugal  \n",
       "\n",
       "[1000 rows x 10 columns]"
      ]
     },
     "execution_count": 51,
     "metadata": {},
     "output_type": "execute_result"
    }
   ],
   "source": [
    "df"
   ]
  },
  {
   "cell_type": "markdown",
   "metadata": {},
   "source": [
    "### Check Null Values"
   ]
  },
  {
   "cell_type": "code",
   "execution_count": 52,
   "metadata": {},
   "outputs": [
    {
     "data": {
      "text/plain": [
       "TransactionID       0\n",
       "CustomerID          0\n",
       "CustomerName        0\n",
       "ProductID           0\n",
       "ProductName         0\n",
       "ProductCategory     0\n",
       "PurchaseQuantity    0\n",
       "PurchasePrice       0\n",
       "PurchaseDate        0\n",
       "Country             0\n",
       "dtype: int64"
      ]
     },
     "execution_count": 52,
     "metadata": {},
     "output_type": "execute_result"
    }
   ],
   "source": [
    "pd.isnull(df).sum()"
   ]
  },
  {
   "cell_type": "markdown",
   "metadata": {},
   "source": [
    "#### Calculate total purchases, total revenue, and average purchase value."
   ]
  },
  {
   "cell_type": "code",
   "execution_count": 53,
   "metadata": {},
   "outputs": [],
   "source": [
    "total_purchases = len(df)\n",
    "total_revenue = df['PurchasePrice'].sum()\n",
    "average_purchase_value = total_revenue / total_purchases"
   ]
  },
  {
   "cell_type": "code",
   "execution_count": 54,
   "metadata": {},
   "outputs": [
    {
     "name": "stdout",
     "output_type": "stream",
     "text": [
      "Total Purchase: 1000\n",
      "Total Revenue: 489274.72\n",
      "Average Purchase Value: 489.27471999999995\n"
     ]
    }
   ],
   "source": [
    "print(f\"Total Purchase: {total_purchases}\")\n",
    "print(f\"Total Revenue: {total_revenue}\")\n",
    "print(f\"Average Purchase Value: {average_purchase_value}\")"
   ]
  },
  {
   "cell_type": "markdown",
   "metadata": {},
   "source": [
    "#### Identifing top customers and their purchasing behavior."
   ]
  },
  {
   "cell_type": "code",
   "execution_count": 55,
   "metadata": {},
   "outputs": [],
   "source": [
    "# Top customers and their purchasing behavior\n",
    "top_customers = df.groupby('CustomerName')['PurchasePrice'].sum().nlargest(5)\n",
    "customer_behavior = df.groupby('CustomerName')['PurchasePrice'].mean()\n"
   ]
  },
  {
   "cell_type": "markdown",
   "metadata": {},
   "source": [
    "#### purchase trends over time"
   ]
  },
  {
   "cell_type": "code",
   "execution_count": 56,
   "metadata": {},
   "outputs": [],
   "source": [
    "# Convert 'PurchaseDate' column to datetime\n",
    "df['PurchaseDate'] = pd.to_datetime(df['PurchaseDate'])\n",
    "\n",
    "# Extract year and month from 'PurchaseDate'\n",
    "df['Year'] = df['PurchaseDate'].dt.year\n",
    "df['Month'] = df['PurchaseDate'].dt.month\n",
    "\n",
    "# Analyze purchase trends over time\n",
    "monthly_trends = df.groupby(['Year', 'Month'])['PurchasePrice'].sum()
     Yearly_trends = df.groupby('Year')['PurchasePrice'].sum()"
   ]
  },
  {
   "cell_type": "code",
   "execution_count": 57,
   "metadata": {},
   "outputs": [
    {
     "data": {
      "image/png": "[encoded data removed]",
      "text/plain": [
       "<Figure size 1200x600 with 1 Axes>"
      ]
     },
     "metadata": {},
     "output_type": "display_data"
    }
   ],
   "source": [
    "plt.figure(figsize=(12, 6))\n",
    "sns.lineplot(x='Month', y='PurchasePrice', data=df, color=\"Red\")\n",
    "plt.title('Monthly Trends:Purchase Price')\n",
    "plt.xlabel('Month')\n",
    "plt.ylabel('Price')\n",
    "plt.show()"
   ]
  },
  {
   "cell_type": "code",
   "execution_count": 58,
   "metadata": {},
   "outputs": [
    {
     "data": {
      "text/plain": [
       "Year  Month\n",
       "2023  6         4012.44\n",
       "      7        47956.69\n",
       "      8        33493.46\n",
       "      9        46764.80\n",
       "      10       38368.97\n",
       "      11       39839.29\n",
       "      12       51910.42\n",
       "2024  1        43575.14\n",
       "      2        41393.77\n",
       "      3        37442.66\n",
       "      4        34165.64\n",
       "      5        42799.97\n",
       "      6        27551.47\n",
       "Name: PurchasePrice, dtype: float64"
      ]
     },
     "execution_count": 58,
     "metadata": {},
     "output_type": "execute_result"
    }
   ],
   "source": [
    "monthly_trends"
   ]
  },
  {
   "cell_type": "code",
   "execution_count": 59,
   "metadata": {},
   "outputs": [],
   "source": [
    "yearly_trends = df.groupby(df['PurchaseDate'].dt.year)['PurchasePrice'].sum()"
   ]
  },
  {
   "cell_type": "code",
   "execution_count": 60,
   "metadata": {},
   "outputs": [
    {
     "data": {
      "text/plain": [
       "PurchaseDate\n",
       "2023    262346.07\n",
       "2024    226928.65\n",
       "Name: PurchasePrice, dtype: float64"
      ]
     },
     "execution_count": 60,
     "metadata": {},
     "output_type": "execute_result"
    }
   ],
   "source": [
    "yearly_trends"
   ]
  },
  {
   "cell_type": "markdown",
   "metadata": {},
   "source": [
    "#### Identify the top-performing product categories."
   ]
  },
  {
   "cell_type": "code",
   "execution_count": 61,
   "metadata": {},
   "outputs": [
    {
     "name": "stdout",
     "output_type": "stream",
     "text": [
      "Total Purchases: 1000\n",
      "Total Revenue: 489274.72\n",
      "Average Purchase Value: 489.27471999999995\n",
      "Top Customers: CustomerName\n",
      "Brittany Miller      1324.45\n",
      "Charles Hernandez    1289.25\n",
      "James Miller         1080.46\n",
      "Christopher Hill     1034.04\n",
      "Jillian Baker         999.98\n",
      "Name: PurchasePrice, dtype: float64\n",
      "Customer Behavior: CustomerName\n",
      "Aaron Arnold Jr.    441.53\n",
      "Aaron Jennings      128.21\n",
      "Aaron Miles         382.91\n",
      "Aaron Rubio         790.76\n",
      "Abigail Davis       219.69\n",
      "                     ...  \n",
      "Yolanda Garrett      53.85\n",
      "Zachary Levy        436.30\n",
      "Zachary Morales     424.48\n",
      "Zachary Vasquez     487.11\n",
      "Zachary White       695.78\n",
      "Name: PurchasePrice, Length: 993, dtype: float64\n",
      "Monthly Trends: Year  Month\n",
      "2023  6         4012.44\n",
      "      7        47956.69\n",
      "      8        33493.46\n",
      "      9        46764.80\n",
      "      10       38368.97\n",
      "      11       39839.29\n",
      "      12       51910.42\n",
      "2024  1        43575.14\n",
      "      2        41393.77\n",
      "      3        37442.66\n",
      "      4        34165.64\n",
      "      5        42799.97\n",
      "      6        27551.47\n",
      "Name: PurchasePrice, dtype: float64\n",
      "Yearly Trends: PurchaseDate\n",
      "2023    262346.07\n",
      "2024    226928.65\n",
      "Name: PurchasePrice, dtype: float64\n",
      "Top Product Categories: ProductID\n",
      "237    9839.18\n",
      "282    8561.53\n",
      "260    7806.42\n",
      "Name: PurchasePrice, dtype: float64\n"
     ]
    }
   ],
   "source": [
    "top_product_categories = df.groupby('ProductID')['PurchasePrice'].sum().nlargest(3)\n",
    "\n",
    "# Create the summary report dictionary\n",
    "summary_report = {\n",
    "    'Total Purchases': total_purchases,\n",
    "    'Total Revenue': total_revenue,\n",
    "    'Average Purchase Value': average_purchase_value,\n",
    "    'Top Customers': top_customers,\n",
    "    'Customer Behavior': customer_behavior,\n",
    "    'Monthly Trends': monthly_trends,\n",
    "    'Yearly Trends': yearly_trends,\n",
    "    'Top Product Categories': top_product_categories\n",
    "}\n",
    "\n",
    "# Display the summary report\n",
    "for key, value in summary_report.items():\n",
    "    print(f'{key}: {value}')"
   ]
  },
  {
   "cell_type": "markdown",
   "metadata": {},
   "source": [
    "##### Top 10 product by purchase price"
   ]
  },
  {
   "cell_type": "code",
   "execution_count": 71,
   "metadata": {},
   "outputs": [
    {
     "name": "stdout",
     "output_type": "stream",
     "text": [
      "Top 10 product by purchase price:\n",
      "        ProductName  PurchasePrice\n",
      "8         Microwave       30970.75\n",
      "14       Smartwatch       29407.68\n",
      "17          Toaster       29116.03\n",
      "6            Heater       28828.67\n",
      "5        Headphones       27748.78\n",
      "10     Refrigerator       27730.95\n",
      "9           Printer       27360.29\n",
      "16       Television       25188.60\n",
      "2            Camera       24985.70\n",
      "0   Air Conditioner       24812.05\n"
     ]
    }
   ],
   "source": [
    "top_product = df.groupby('ProductName')['PurchasePrice'].sum().reset_index()\n",
    "top_10 = top_product.sort_values(by='PurchasePrice', ascending=False).head(10)\n",
    "print(\"Top 10 product by purchase price:\")\n",
    "print(top_10)"
   ]
  },
  {
   "cell_type": "code",
   "execution_count": 72,
   "metadata": {},
   "outputs": [
    {
     "data": {
      "image/png": "[encoded data removed]",
      "text/plain": [
       "<Figure size 1200x600 with 1 Axes>"
      ]
     },
     "metadata": {},
     "output_type": "display_data"
    }
   ],
   "source": [
    "plt.figure(figsize=(12, 6))\n",
    "plt.bar(top_10['ProductName'], top_10['PurchasePrice'], color='skyblue')\n",
    "plt.title('Top 10 Products by Purchase Price')\n",
    "plt.xlabel('Product Name')\n",
    "plt.ylabel('Total Purchase Price')\n",
    "plt.xticks(rotation=45)\n",
    "plt.tight_layout()\n",
    "plt.savefig('top_products_chart.png')\n",
    "plt.show()"
   ]
  },
  {
   "cell_type": "markdown",
   "metadata": {},
   "source": [
    "## Key Insight Report\n",
    "1. Total Purchases: 1000\n",
    "2. Total Revenue: 489274.72\n",
    "3. Average Purchase Value: 489.27\n",
    "\n",
    "\n",
    "Purchase_trend over time:\n",
    "\n",
    "Monthly Trend in 2023:\n",
    "December 2023 saw the highest purchase quantity (295 units), purchase price of 51910.42, with an average purchase value of 175.96.\n",
    "and lowest is the Nov-2023 with the purchase quantity(28 unit), purchase price of  4012.44 with an avg purchase value of 143.30\n",
    "Purchases showed fluctuations across other months, indicating seasonal variations or promotional effects.\n",
    "\n",
    "2024 started slightly lower but maintained a strong average purchase value.\n",
    "\n",
    "Top performing product Performance:\n",
    "Electronics: Customers made 1,480 purchases, generating 248,194.56 in revenue. On average, each purchase in this category was about 167.70.\n",
    "Home Appliances:This category saw 1573 purchases, totaling 241,080.16 in revenue. The average purchase here was around 153.26."
   ]
  }
 ],
 "metadata": {
  "kernelspec": {
   "display_name": "Python 3",
   "language": "python",
   "name": "python3"
  },
  "language_info": {
   "codemirror_mode": {
    "name": "ipython",
    "version": 3
   },
   "file_extension": ".py",
   "mimetype": "text/x-python",
   "name": "python",
   "nbconvert_exporter": "python",
   "pygments_lexer": "ipython3",
   "version": "3.12.5"
  }
 },
 "nbformat": 4,
 "nbformat_minor": 2
}
